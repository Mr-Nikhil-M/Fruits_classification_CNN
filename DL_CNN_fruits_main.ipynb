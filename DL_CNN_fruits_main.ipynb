{
  "nbformat": 4,
  "nbformat_minor": 0,
  "metadata": {
    "colab": {
      "provenance": []
    },
    "kernelspec": {
      "name": "python3",
      "display_name": "Python 3"
    },
    "language_info": {
      "name": "python"
    }
  },
  "cells": [
    {
      "cell_type": "markdown",
      "source": [
        "**Fruits Classification**"
      ],
      "metadata": {
        "id": "bz05D9b9G9_Q"
      }
    },
    {
      "cell_type": "markdown",
      "source": [
        "Fruits are an essential component of our diet and come in a wide variety of shapes, sizes, colors, and textures. Classifying them manually can be a time-consuming and error-prone task. However, with advancements in computer vision and machine learning, we can automate this process efficiently.\n",
        "The classification task involves training a CNN model on a dataset consisting of images of various fruits. Each fruit category contains a diverse range of images captured under different lighting conditions, angles, and backgrounds. The trained model learns to extract meaningful features from these images and distinguish between different fruit types with high accuracy.\n",
        "In this project, we will explore the entire pipeline of fruit classification, including data collection, preprocessing, model development, training, evaluation, and deployment. By the end of this endeavor, we aim to develop a robust and accurate fruit classification system that can generalize well to unseen fruit images.\n",
        "\n"
      ],
      "metadata": {
        "id": "OQ1iZgOoHC1J"
      }
    },
    {
      "cell_type": "markdown",
      "source": [
        "Importing necessary libraries"
      ],
      "metadata": {
        "id": "ZakK67NsWdhF"
      }
    },
    {
      "cell_type": "code",
      "execution_count": null,
      "metadata": {
        "id": "NPMAi-5mWcMe"
      },
      "outputs": [],
      "source": [
        "import os\n",
        "import pandas as pd\n",
        "from skimage.io import imread\n",
        "from skimage.transform import resize\n",
        "from keras.models import Sequential\n",
        "from keras.layers import Dense,Conv2D,MaxPool2D,Flatten\n",
        "import matplotlib.pyplot as plt"
      ]
    },
    {
      "cell_type": "markdown",
      "source": [
        "Listing files in the training directory"
      ],
      "metadata": {
        "id": "xj3vLjr7Wp2B"
      }
    },
    {
      "cell_type": "code",
      "source": [
        "os.listdir('/content/drive/MyDrive/Project File/Fruits_classification/train')"
      ],
      "metadata": {
        "colab": {
          "base_uri": "https://localhost:8080/"
        },
        "id": "Wd9_eN-BWvks",
        "outputId": "0059bcdc-9cbd-443d-f51e-77ee94c3756e"
      },
      "execution_count": null,
      "outputs": [
        {
          "output_type": "execute_result",
          "data": {
            "text/plain": [
              "['Guava',\n",
              " 'Papaya',\n",
              " 'Strawberry',\n",
              " 'Mango',\n",
              " 'Orange',\n",
              " 'Banana',\n",
              " 'Kiwi',\n",
              " 'Watermelon',\n",
              " 'Apple']"
            ]
          },
          "metadata": {},
          "execution_count": 22
        }
      ]
    },
    {
      "cell_type": "markdown",
      "source": [
        "Listing files in the testing directory"
      ],
      "metadata": {
        "id": "h9xQfkHjWquR"
      }
    },
    {
      "cell_type": "code",
      "source": [
        "os.listdir('/content/drive/MyDrive/Project File/Fruits_classification/test')"
      ],
      "metadata": {
        "colab": {
          "base_uri": "https://localhost:8080/"
        },
        "id": "9WwvrxJIW0Vs",
        "outputId": "938e7834-49b0-4083-d5dc-7b7863c5e15b"
      },
      "execution_count": null,
      "outputs": [
        {
          "output_type": "execute_result",
          "data": {
            "text/plain": [
              "['Watermelon',\n",
              " 'Guava',\n",
              " 'Apple',\n",
              " 'Kiwi',\n",
              " 'Banana',\n",
              " 'Strawberry',\n",
              " 'Papaya',\n",
              " 'Orange',\n",
              " 'Mango']"
            ]
          },
          "metadata": {},
          "execution_count": 23
        }
      ]
    },
    {
      "cell_type": "markdown",
      "source": [
        "Defining paths for training and testing data directories"
      ],
      "metadata": {
        "id": "th6xyhRXAFNU"
      }
    },
    {
      "cell_type": "code",
      "source": [
        "train_datadir='/content/drive/MyDrive/Project File/Fruits_classification/train'\n",
        "test_datadir='/content/drive/MyDrive/Project File/Fruits_classification/test'"
      ],
      "metadata": {
        "id": "oWMMHVteW5Wo"
      },
      "execution_count": null,
      "outputs": []
    },
    {
      "cell_type": "markdown",
      "source": [
        "Iterating through each category(training)"
      ],
      "metadata": {
        "id": "NmYQTxoZWzZX"
      }
    },
    {
      "cell_type": "code",
      "source": [
        "X_train=[]\n",
        "y_train=[]\n",
        "categories=['Guava','Papaya','Strawberry','Mango','Apple','Orange','Banana','Kiwi','Watermelon']\n",
        "for i in categories:\n",
        "  print(\"Loading...\",i)\n",
        "  path=os.path.join(train_datadir,i)\n",
        "  #print(path)\n",
        "  images=os.listdir(path)\n",
        "  #print(images)\n",
        "  for img in images:\n",
        "    img_path=os.path.join(path,img)\n",
        "    #print(img_path)\n",
        "    img_array=imread(img_path)\n",
        "    img_resized=resize(img_array,(150,150,3))\n",
        "    X_train.append(img_resized)\n",
        "    y_train.append(categories.index(i))\n",
        "  print(\"....Completed....\")"
      ],
      "metadata": {
        "colab": {
          "base_uri": "https://localhost:8080/"
        },
        "id": "4oojPZaMW-CT",
        "outputId": "bb6c2677-baad-4ea7-f53e-dd8587f3f55c"
      },
      "execution_count": null,
      "outputs": [
        {
          "output_type": "stream",
          "name": "stdout",
          "text": [
            "Loading... Guava\n",
            "....Completed....\n",
            "Loading... Papaya\n",
            "....Completed....\n",
            "Loading... Strawberry\n",
            "....Completed....\n",
            "Loading... Mango\n",
            "....Completed....\n",
            "Loading... Apple\n",
            "....Completed....\n",
            "Loading... Orange\n",
            "....Completed....\n",
            "Loading... Banana\n",
            "....Completed....\n",
            "Loading... Kiwi\n",
            "....Completed....\n",
            "Loading... Watermelon\n",
            "....Completed....\n"
          ]
        }
      ]
    },
    {
      "cell_type": "code",
      "source": [
        "img_array.shape"
      ],
      "metadata": {
        "colab": {
          "base_uri": "https://localhost:8080/"
        },
        "id": "2QQPzeWHXMQ1",
        "outputId": "2b5059ab-c833-406c-cc43-39eca8005a41"
      },
      "execution_count": null,
      "outputs": [
        {
          "output_type": "execute_result",
          "data": {
            "text/plain": [
              "(195, 235, 3)"
            ]
          },
          "metadata": {},
          "execution_count": 6
        }
      ]
    },
    {
      "cell_type": "code",
      "source": [
        "img_resized.shape"
      ],
      "metadata": {
        "colab": {
          "base_uri": "https://localhost:8080/"
        },
        "id": "-V_RSn2LXQDW",
        "outputId": "274f1554-de4d-43a9-fa7c-74e420d1297e"
      },
      "execution_count": null,
      "outputs": [
        {
          "output_type": "execute_result",
          "data": {
            "text/plain": [
              "(150, 150, 3)"
            ]
          },
          "metadata": {},
          "execution_count": 7
        }
      ]
    },
    {
      "cell_type": "markdown",
      "source": [
        "Iterating through each category(testing)"
      ],
      "metadata": {
        "id": "mzjAv6XwW3E7"
      }
    },
    {
      "cell_type": "code",
      "source": [
        "X_test=[]\n",
        "y_test=[]\n",
        "categories=['Guava','Papaya','Strawberry','Mango','Apple','Orange','Banana','Kiwi','Watermelon']\n",
        "for i in categories:\n",
        "  print(\"Loading....\",i)\n",
        "  path=os.path.join(test_datadir,i)\n",
        "  #print(path)\n",
        "  images=os.listdir(path)\n",
        "  #print(images)\n",
        "  for img in images:\n",
        "    img_path=os.path.join(path,img)\n",
        "    #print(img_path)\n",
        "    img_array=imread(img_path)\n",
        "    img_resized=resize(img_array,(150,150,3))\n",
        "    X_test.append(img_resized)\n",
        "    y_test.append(categories.index(i))\n",
        "  print(\"...Completed...\")"
      ],
      "metadata": {
        "colab": {
          "base_uri": "https://localhost:8080/"
        },
        "id": "VPoU2ePRXaEF",
        "outputId": "937383a9-e6c4-4427-e1d4-ec1d63974d0f"
      },
      "execution_count": null,
      "outputs": [
        {
          "output_type": "stream",
          "name": "stdout",
          "text": [
            "Loading.... Guava\n",
            "...Completed...\n",
            "Loading.... Papaya\n",
            "...Completed...\n",
            "Loading.... Strawberry\n",
            "...Completed...\n",
            "Loading.... Mango\n",
            "...Completed...\n",
            "Loading.... Apple\n",
            "...Completed...\n",
            "Loading.... Orange\n",
            "...Completed...\n",
            "Loading.... Banana\n",
            "...Completed...\n",
            "Loading.... Kiwi\n",
            "...Completed...\n",
            "Loading.... Watermelon\n",
            "...Completed...\n"
          ]
        }
      ]
    },
    {
      "cell_type": "code",
      "source": [
        "img_array.shape"
      ],
      "metadata": {
        "colab": {
          "base_uri": "https://localhost:8080/"
        },
        "id": "PA8X2FFxXz4V",
        "outputId": "984f1039-c37a-4f08-ad30-c9581254eb95"
      },
      "execution_count": null,
      "outputs": [
        {
          "output_type": "execute_result",
          "data": {
            "text/plain": [
              "(195, 235, 3)"
            ]
          },
          "metadata": {},
          "execution_count": 9
        }
      ]
    },
    {
      "cell_type": "code",
      "source": [
        "img_resized.shape"
      ],
      "metadata": {
        "colab": {
          "base_uri": "https://localhost:8080/"
        },
        "id": "ZQ1R_26hX0ev",
        "outputId": "77c098b7-bf4a-4977-a967-3f0c447a344b"
      },
      "execution_count": null,
      "outputs": [
        {
          "output_type": "execute_result",
          "data": {
            "text/plain": [
              "(150, 150, 3)"
            ]
          },
          "metadata": {},
          "execution_count": 10
        }
      ]
    },
    {
      "cell_type": "markdown",
      "source": [
        "Plotting histogram for training and testing set"
      ],
      "metadata": {
        "id": "T4vxSpasXHA_"
      }
    },
    {
      "cell_type": "code",
      "source": [
        "category_names = ['Guava', 'Papaya', 'Strawberry', 'Mango', 'Apple', 'Orange', 'Banana', 'Kiwi', 'Watermelon']\n",
        "fig, axes = plt.subplots(1, 2, figsize=(12, 4))\n",
        "\n",
        "axes[0].hist(y_train, bins=range(10), width=0.5, color='blue')\n",
        "axes[0].set_title('Training set')\n",
        "axes[0].set_xticks(range(9))\n",
        "axes[0].set_xticklabels(category_names, rotation=45, ha='right')\n",
        "\n",
        "axes[1].hist(y_test, bins=range(10), width=0.5, color='red')\n",
        "axes[1].set_title('Test set')\n",
        "axes[1].set_xticks(range(9))\n",
        "axes[1].set_xticklabels(category_names, rotation=45, ha='right')\n",
        "\n",
        "plt.tight_layout()\n",
        "\n",
        "plt.show()"
      ],
      "metadata": {
        "colab": {
          "base_uri": "https://localhost:8080/",
          "height": 407
        },
        "id": "PpwfCyDFXBRy",
        "outputId": "986f9708-fe6e-4f7e-ed74-3b7d621c1d65"
      },
      "execution_count": null,
      "outputs": [
        {
          "output_type": "display_data",
          "data": {
            "text/plain": [
              "<Figure size 1200x400 with 2 Axes>"
            ],
            "image/png": "[encoded data removed]"
          },
          "metadata": {}
        }
      ]
    },
    {
      "cell_type": "markdown",
      "source": [
        "Converting lists to numpy arrays"
      ],
      "metadata": {
        "id": "_7dneMDeXUav"
      }
    },
    {
      "cell_type": "code",
      "source": [
        "import numpy as np\n",
        "X_trainnp=np.array(X_train)\n",
        "y_trainnp=np.array(y_train)\n",
        "X_testnp=np.array(X_test)\n",
        "y_testnp=np.array(y_test)"
      ],
      "metadata": {
        "id": "4pXZlkc0X2jI"
      },
      "execution_count": null,
      "outputs": []
    },
    {
      "cell_type": "code",
      "source": [
        "X_trainnp.shape"
      ],
      "metadata": {
        "colab": {
          "base_uri": "https://localhost:8080/"
        },
        "id": "yhOhV0wNX42k",
        "outputId": "812b00a7-a4a7-4123-d451-128360aa37f2"
      },
      "execution_count": null,
      "outputs": [
        {
          "output_type": "execute_result",
          "data": {
            "text/plain": [
              "(4545, 150, 150, 3)"
            ]
          },
          "metadata": {},
          "execution_count": 12
        }
      ]
    },
    {
      "cell_type": "code",
      "source": [
        "y_trainnp.shape"
      ],
      "metadata": {
        "colab": {
          "base_uri": "https://localhost:8080/"
        },
        "id": "bckFzd_mX_G8",
        "outputId": "d5d8074d-6e89-4cf4-d5c5-13c4c61b851a"
      },
      "execution_count": null,
      "outputs": [
        {
          "output_type": "execute_result",
          "data": {
            "text/plain": [
              "(4545,)"
            ]
          },
          "metadata": {},
          "execution_count": 13
        }
      ]
    },
    {
      "cell_type": "code",
      "source": [
        "X_testnp.shape"
      ],
      "metadata": {
        "colab": {
          "base_uri": "https://localhost:8080/"
        },
        "id": "XgyIy-AeX_bp",
        "outputId": "6883375e-432d-4ebc-c60a-9f371542db73"
      },
      "execution_count": null,
      "outputs": [
        {
          "output_type": "execute_result",
          "data": {
            "text/plain": [
              "(1639, 150, 150, 3)"
            ]
          },
          "metadata": {},
          "execution_count": 14
        }
      ]
    },
    {
      "cell_type": "code",
      "source": [
        "y_testnp.shape"
      ],
      "metadata": {
        "id": "IQFBl6pCYBL7",
        "colab": {
          "base_uri": "https://localhost:8080/"
        },
        "outputId": "0d934c02-d12c-4667-811c-f8e1d0f7647a"
      },
      "execution_count": null,
      "outputs": [
        {
          "output_type": "execute_result",
          "data": {
            "text/plain": [
              "(1639,)"
            ]
          },
          "metadata": {},
          "execution_count": 15
        }
      ]
    },
    {
      "cell_type": "markdown",
      "source": [
        "Architecture of a Convolutional Neural Network"
      ],
      "metadata": {
        "id": "uZ5kSVpZXVpn"
      }
    },
    {
      "cell_type": "code",
      "source": [
        "cnn=Sequential()\n",
        "#convulution layer\n",
        "cnn.add(Conv2D(32,(3,3),input_shape=(150,150,3),activation='relu'))\n",
        "#max pool layer\n",
        "cnn.add(MaxPool2D(2,2))\n",
        "#convulution layer\n",
        "cnn.add(Conv2D(32,(3,3),activation='relu'))\n",
        "#max pool layer\n",
        "cnn.add(MaxPool2D(2,2))\n",
        "#flatten layer\n",
        "cnn.add(Flatten())\n",
        "cnn.add(Dense(100,activation='relu'))\n",
        "cnn.add(Dense(9,activation='softmax'))"
      ],
      "metadata": {
        "id": "BDQdU18yMAYY"
      },
      "execution_count": null,
      "outputs": []
    },
    {
      "cell_type": "markdown",
      "source": [
        "Compiling the model"
      ],
      "metadata": {
        "id": "WgC5-kPZYRjt"
      }
    },
    {
      "cell_type": "code",
      "source": [
        "cnn.compile(optimizer='adam',loss='sparse_categorical_crossentropy',metrics=['accuracy'])"
      ],
      "metadata": {
        "id": "RfXpSZEEMEz_"
      },
      "execution_count": null,
      "outputs": []
    },
    {
      "cell_type": "markdown",
      "source": [
        "Training the model"
      ],
      "metadata": {
        "id": "Pimt__1yYWh3"
      }
    },
    {
      "cell_type": "code",
      "source": [
        "cnn.fit(X_trainnp,y_trainnp,epochs=10,batch_size=10)"
      ],
      "metadata": {
        "colab": {
          "base_uri": "https://localhost:8080/"
        },
        "id": "aq5cNx2EMIfk",
        "outputId": "18cf25e2-cd47-4713-caa3-6b2b292c737d"
      },
      "execution_count": null,
      "outputs": [
        {
          "output_type": "stream",
          "name": "stdout",
          "text": [
            "Epoch 1/10\n",
            "455/455 [==============================] - 109s 237ms/step - loss: 0.2434 - accuracy: 0.9386\n",
            "Epoch 2/10\n",
            "455/455 [==============================] - 102s 225ms/step - loss: 0.0491 - accuracy: 0.9877\n",
            "Epoch 3/10\n",
            "455/455 [==============================] - 102s 224ms/step - loss: 0.0224 - accuracy: 0.9936\n",
            "Epoch 4/10\n",
            "455/455 [==============================] - 103s 227ms/step - loss: 0.0389 - accuracy: 0.9886\n",
            "Epoch 5/10\n",
            "455/455 [==============================] - 102s 224ms/step - loss: 0.0101 - accuracy: 0.9971\n",
            "Epoch 6/10\n",
            "455/455 [==============================] - 104s 229ms/step - loss: 0.0190 - accuracy: 0.9943\n",
            "Epoch 7/10\n",
            "455/455 [==============================] - 104s 229ms/step - loss: 0.0130 - accuracy: 0.9963\n",
            "Epoch 8/10\n",
            "455/455 [==============================] - 102s 224ms/step - loss: 0.0329 - accuracy: 0.9905\n",
            "Epoch 9/10\n",
            "455/455 [==============================] - 102s 225ms/step - loss: 0.0278 - accuracy: 0.9945\n",
            "Epoch 10/10\n",
            "455/455 [==============================] - 102s 224ms/step - loss: 0.0042 - accuracy: 0.9993\n"
          ]
        },
        {
          "output_type": "execute_result",
          "data": {
            "text/plain": [
              "<keras.src.callbacks.History at 0x7c7c06052bc0>"
            ]
          },
          "metadata": {},
          "execution_count": 18
        }
      ]
    },
    {
      "cell_type": "markdown",
      "source": [
        "Evaluating the model on testing data"
      ],
      "metadata": {
        "id": "4_oc62-OYZJh"
      }
    },
    {
      "cell_type": "code",
      "source": [
        "cnn.evaluate(X_testnp,y_testnp)"
      ],
      "metadata": {
        "colab": {
          "base_uri": "https://localhost:8080/"
        },
        "id": "bL9jnotiMLUn",
        "outputId": "0704c325-ad17-438b-9432-01094e83c74f"
      },
      "execution_count": null,
      "outputs": [
        {
          "output_type": "stream",
          "name": "stdout",
          "text": [
            "52/52 [==============================] - 11s 199ms/step - loss: 0.1957 - accuracy: 0.9799\n"
          ]
        },
        {
          "output_type": "execute_result",
          "data": {
            "text/plain": [
              "[0.19573324918746948, 0.9798657894134521]"
            ]
          },
          "metadata": {},
          "execution_count": 19
        }
      ]
    },
    {
      "cell_type": "markdown",
      "source": [
        "Save the trained CNN model to a file"
      ],
      "metadata": {
        "id": "-PC8ZsFCYnp_"
      }
    },
    {
      "cell_type": "code",
      "source": [
        "cnn.save(\"fruits_classification_model.h5\")"
      ],
      "metadata": {
        "id": "32V-jnIwUMyQ",
        "outputId": "1478be7e-1c16-4094-86a4-11d3da23a0ac",
        "colab": {
          "base_uri": "https://localhost:8080/"
        }
      },
      "execution_count": null,
      "outputs": [
        {
          "output_type": "stream",
          "name": "stderr",
          "text": [
            "/usr/local/lib/python3.10/dist-packages/keras/src/engine/training.py:3103: UserWarning: You are saving your model as an HDF5 file via `model.save()`. This file format is considered legacy. We recommend using instead the native Keras format, e.g. `model.save('my_model.keras')`.\n",
            "  saving_api.save_model(\n"
          ]
        }
      ]
    },
    {
      "cell_type": "code",
      "source": [],
      "metadata": {
        "id": "IVfem6U6UNee"
      },
      "execution_count": null,
      "outputs": []
    }
  ]
}